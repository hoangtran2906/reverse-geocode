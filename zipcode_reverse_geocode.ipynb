{
 "cells": [
  {
   "cell_type": "code",
   "execution_count": 6,
   "id": "625d272e",
   "metadata": {},
   "outputs": [
    {
     "name": "stderr",
     "output_type": "stream",
     "text": [
      "C:\\Users\\Hoang\\AppData\\Local\\Temp\\ipykernel_10544\\3330672926.py:11: DtypeWarning: Columns (1) have mixed types. Specify dtype option on import or set low_memory=False.\n",
      "  df_crash = pd.read_csv('Crash_Reporting_-_Drivers_Data.csv', index_col = 0)\n"
     ]
    },
    {
     "name": "stdout",
     "output_type": "stream",
     "text": [
      "                     lat        lon zipcode\n",
      "Report Number                              \n",
      "MCP3040003N    39.150044 -77.063089   20832\n",
      "EJ78850038     39.159264 -77.219025   20877\n",
      "MCP2009002G    39.109535 -77.075806   20853\n",
      "MCP3201004C    39.190149 -77.266766   20874\n",
      "MCP23290028    39.172558 -77.203745   20886\n",
      "...                  ...        ...     ...\n",
      "DM8338000C     38.972560 -76.997466   20912\n",
      "MCP1182001S    39.004640 -77.108502   20814\n",
      "MCP1453008X    39.228963 -77.236757   20876\n",
      "MCP2568000M    39.120440 -77.180047   20877\n",
      "MCP1048000P    39.106847 -77.158380   20850\n",
      "\n",
      "[167491 rows x 3 columns]\n"
     ]
    }
   ],
   "source": [
    "# Import packages\n",
    "\n",
    "from uszipcode import SearchEngine, SimpleZipcode\n",
    "import numpy as np\n",
    "import pandas as pd\n",
    "import json\n",
    "import numpy as np\n",
    "import csv\n",
    "import os\n",
    "#Import data\n",
    "df_crash = pd.read_csv('Crash_Reporting_-_Drivers_Data.csv', index_col = 0)\n",
    "df_crash\n",
    "\n",
    "#define zipcode search function\n",
    "def get_zipcode(lat, lon):\n",
    "    result = search.by_coordinates(lat = lat, lng = lon, returns = 1)\n",
    "    return result[0].zipcode\n",
    "\n",
    "#load columns from dataframe\n",
    "lat = df_crash['Latitude']\n",
    "lon = df_crash['Longitude']\n",
    "\n",
    "#define latitude/longitude for function\n",
    "df = pd.DataFrame({'lat':lat, 'lon':lon})\n",
    "\n",
    "#add new column with generated zip-code\n",
    "df['zipcode'] = df.apply(lambda x: get_zipcode(x.lat,x.lon), axis=1)\n",
    "\n",
    "#print result\n",
    "print(df)\n",
    "\n",
    "#(optional) save as csv\n",
    "df.to_csv(r'zip_codes.csv')"
   ]
  },
  {
   "cell_type": "code",
   "execution_count": null,
   "id": "4fb174dd",
   "metadata": {},
   "outputs": [],
   "source": [
    "df"
   ]
  }
 ],
 "metadata": {
  "kernelspec": {
   "display_name": "Python 3 (ipykernel)",
   "language": "python",
   "name": "python3"
  },
  "language_info": {
   "codemirror_mode": {
    "name": "ipython",
    "version": 3
   },
   "file_extension": ".py",
   "mimetype": "text/x-python",
   "name": "python",
   "nbconvert_exporter": "python",
   "pygments_lexer": "ipython3",
   "version": "3.11.4"
  }
 },
 "nbformat": 4,
 "nbformat_minor": 5
}
